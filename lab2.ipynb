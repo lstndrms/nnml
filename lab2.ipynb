{
 "cells": [
  {
   "cell_type": "markdown",
   "id": "5770570e",
   "metadata": {},
   "source": [
    "# Лабораторная работа №2\n",
    "\n",
    "ФИО:  Поцелуев Андрей Александрович   \n",
    "Группа: БИВТ-20-1  "
   ]
  },
  {
   "cell_type": "markdown",
   "id": "3704002f",
   "metadata": {},
   "source": [
    "# Задача 1. Реализовать слой с функцией активации \"сигмоида\""
   ]
  },
  {
   "cell_type": "markdown",
   "id": "edf0b72b",
   "metadata": {},
   "source": [
    "![](https://upload.wikimedia.org/wikipedia/commons/thumb/8/88/Logistic-curve.svg/1200px-Logistic-curve.svg.png)"
   ]
  },
  {
   "cell_type": "markdown",
   "id": "6cbd5a25",
   "metadata": {},
   "source": [
    "Формула сигмоиды:\n",
    "$$\n",
    "f(x) = \\frac {1}{1 + e^{-x}}\n",
    "$$"
   ]
  },
  {
   "cell_type": "code",
   "execution_count": 39,
   "id": "8f0352a0",
   "metadata": {},
   "outputs": [],
   "source": [
    "import numpy as np"
   ]
  },
  {
   "cell_type": "code",
   "execution_count": 40,
   "id": "2156cdb3",
   "metadata": {},
   "outputs": [],
   "source": [
    "class SigmoidLayer():\n",
    "    def __init__(self):\n",
    "        self.params = []\n",
    "        self.gradInput = None\n",
    "        self.gradW = None\n",
    "    def forward(self, X):\n",
    "        self.X = X.copy()\n",
    "        output = 1 / (1 + np.exp(-X))\n",
    "        return output"
   ]
  },
  {
   "cell_type": "code",
   "execution_count": 41,
   "id": "3fa22d18",
   "metadata": {},
   "outputs": [],
   "source": [
    "np.random.seed(17)\n",
    "X = np.random.random(size=(5, 3))\n",
    "sigmoid = SigmoidLayer()\n",
    "output = sigmoid.forward(X)\n",
    "correct_answer = np.array([[0.57313782, 0.62961995, 0.54773438],\n",
    "                           [0.51696857, 0.68718368, 0.65843628],\n",
    "                           [0.65419284, 0.64005501, 0.50976449],\n",
    "                           [0.58851107, 0.7202462 , 0.51500666],\n",
    "                           [0.70350447, 0.70626044, 0.51279562]])\n",
    "assert np.isclose(output[:5], correct_answer).all()\n",
    "assert hasattr(sigmoid, \"params\"), \"Нет параметра params в реализованном классе\"\n",
    "assert hasattr(sigmoid, \"gradInput\"), \"Нет параметра gradInput в реализованном классе\"\n",
    "assert hasattr(sigmoid, \"X\"), \"Не сохранили X в реализованном классе\""
   ]
  },
  {
   "cell_type": "markdown",
   "id": "3b1aa776",
   "metadata": {},
   "source": [
    "# Задача 2. Реализовать слой с активацией гиперболического тангенса"
   ]
  },
  {
   "cell_type": "markdown",
   "id": "57c26084",
   "metadata": {},
   "source": [
    "![](https://production-media.paperswithcode.com/methods/Screen_Shot_2020-05-27_at_4.23.22_PM_dcuMBJl.png)"
   ]
  },
  {
   "cell_type": "code",
   "execution_count": 42,
   "id": "886576bb",
   "metadata": {},
   "outputs": [],
   "source": [
    "class TanhLayer():\n",
    "    def __init__(self, in_size, out_size):\n",
    "        self.w = np.random.randn(in_size, out_size)\n",
    "        self.params = [self.w]\n",
    "        self.gradInput = None\n",
    "        self.gradW = None\n",
    "\n",
    "    def forward(self, X):\n",
    "        self.X = X.copy()\n",
    "        output = (np.exp(X) - np.exp(-X)) / (np.exp(X) + np.exp(-X))\n",
    "        return output"
   ]
  },
  {
   "cell_type": "code",
   "execution_count": 43,
   "id": "4088016c",
   "metadata": {},
   "outputs": [],
   "source": [
    "np.random.seed(17)\n",
    "\n",
    "X = np.random.random(size=(100, 3))\n",
    "tanh = TanhLayer(3, 5)\n",
    "output = tanh.forward(X)\n",
    "correct_answer = np.array([[0.28642281, 0.48582948, 0.18921297],\n",
    "                           [0.0677962 , 0.65669792, 0.57591821],\n",
    "                           [0.5632092 , 0.51946218, 0.03904306],\n",
    "                           [0.34328675, 0.73782249, 0.05997262],\n",
    "                           [0.69833441, 0.70505935, 0.05114899]])\n",
    "assert np.isclose(output[:5], correct_answer).all()\n",
    "assert hasattr(tanh, \"params\"), \"Нет параметра params в реализованном классе\"\n",
    "assert hasattr(tanh, \"gradInput\"), \"Нет параметра gradInput в реализованном классе\"\n",
    "assert hasattr(tanh, \"X\"), \"Не сохранили X в реализованном классе\""
   ]
  },
  {
   "cell_type": "markdown",
   "id": "be2b44f7",
   "metadata": {},
   "source": [
    "# Задача 3. Реализовать функцию потерь MSE"
   ]
  },
  {
   "cell_type": "markdown",
   "id": "2d15d7c2",
   "metadata": {},
   "source": [
    "В качестве интерактива-микрозадания, поищите формулу MSE в гугле 😊"
   ]
  },
  {
   "cell_type": "code",
   "execution_count": 44,
   "id": "919014f4",
   "metadata": {},
   "outputs": [],
   "source": [
    "class MSELoss():\n",
    "    def forward(self, y_true, y_pred):\n",
    "        n = len(y_true)\n",
    "        output = (1/n)*np.sum((y_pred - y_true)**2)\n",
    "        return output"
   ]
  },
  {
   "cell_type": "code",
   "execution_count": 45,
   "id": "f14b8a55",
   "metadata": {},
   "outputs": [],
   "source": [
    "np.random.seed(17)\n",
    "\n",
    "y_true = np.random.randint(0, 1000, size=(100))\n",
    "y_pred = np.random.randint(0, 1000, size=(100))\n",
    "mse = MSELoss()\n",
    "output = mse.forward(y_true, y_pred)\n",
    "correct_answer = 157953.51\n",
    "assert round(output) == round(correct_answer)"
   ]
  },
  {
   "cell_type": "markdown",
   "id": "237d40c5",
   "metadata": {},
   "source": [
    "# Задача 4. Реализовать каркас нейросети"
   ]
  },
  {
   "cell_type": "code",
   "execution_count": 46,
   "id": "db70586b",
   "metadata": {},
   "outputs": [],
   "source": [
    "class LinearLayer:\n",
    "    def __init__(self, in_size, out_size):\n",
    "        self.W = np.random.randn(in_size, out_size)\n",
    "        self.params = [self.W]\n",
    "        self.gradW = None\n",
    "        self.gradInput = None\n",
    "        \n",
    "    def forward(self, X):\n",
    "        self.X = X.copy()\n",
    "        output = X.dot(self.W)\n",
    "        return output\n",
    "\n",
    "\n",
    "class NN:\n",
    "    def __init__(self, loss_func):\n",
    "        self.layers = []\n",
    "        self.params = []\n",
    "        self.grads = []\n",
    "        self.loss_func = loss_func\n",
    "\n",
    "    def add_layer(self, layer):\n",
    "        self.layers.append(layer)\n",
    "\n",
    "    def forward(self, X):\n",
    "        self.X = X.copy()\n",
    "        for layer in self.layers:\n",
    "            self.X = layer.forward(self.X)\n",
    "        return self.X"
   ]
  },
  {
   "cell_type": "code",
   "execution_count": 47,
   "id": "3f6d4545",
   "metadata": {},
   "outputs": [],
   "source": [
    "nn = NN(MSELoss())\n",
    "\n",
    "assert hasattr(nn, \"layers\")\n",
    "assert hasattr(nn, \"params\")\n",
    "assert hasattr(nn, \"grads\")\n",
    "assert hasattr(nn, \"loss_func\")\n",
    "assert isinstance(nn.loss_func, MSELoss)"
   ]
  },
  {
   "cell_type": "code",
   "execution_count": 48,
   "id": "b0209c7d",
   "metadata": {},
   "outputs": [],
   "source": [
    "np.random.seed(17)\n",
    "\n",
    "X = np.random.random(size=(100, 3))\n",
    "nn = NN(MSELoss())\n",
    "\n",
    "linear1 = LinearLayer(3, 5)\n",
    "nn.add_layer(linear1)\n",
    "\n",
    "sigmoid1 = SigmoidLayer()\n",
    "nn.add_layer(sigmoid1)\n",
    "\n",
    "linear2 = LinearLayer(5, 1)\n",
    "nn.add_layer(linear2)\n",
    "\n",
    "sigmoid2 = SigmoidLayer()\n",
    "nn.add_layer(sigmoid2)\n",
    "\n",
    "output_nn = nn.forward(X)\n",
    "\n",
    "assert round(output_nn.sum()) == 65"
   ]
  },
  {
   "cell_type": "markdown",
   "id": "d1d04155",
   "metadata": {},
   "source": [
    "# Задача 5. Соберите свою собственную нейросеть\n",
    "\n",
    "Конфигурация сети, как на картинке\n",
    "![](https://waksoft.susu.ru/wp-content/uploads/2021/05/nn-title.png)\n",
    "Активации любые на ваш вкус (можете чередовать, делать одни и те же и прочее, что душе угодно)"
   ]
  },
  {
   "cell_type": "code",
   "execution_count": 49,
   "id": "c72b79ae",
   "metadata": {},
   "outputs": [],
   "source": [
    "np.random.seed(17)\n",
    "\n",
    "nn = NN(MSELoss())\n",
    "\n",
    "linear1 = LinearLayer(4, 4)\n",
    "nn.add_layer(linear1)\n",
    "\n",
    "linear2 = LinearLayer(4, 5)\n",
    "nn.add_layer(linear2)\n",
    "\n",
    "linear3 = LinearLayer(5, 6)\n",
    "nn.add_layer(linear3)\n",
    "\n",
    "linear4 = LinearLayer(6, 4)\n",
    "nn.add_layer(linear4)\n",
    "\n",
    "linear5 = LinearLayer(4, 3)\n",
    "nn.add_layer(linear5)\n",
    "\n",
    "linear6 = LinearLayer(3, 3)\n",
    "nn.add_layer(linear6)\n"
   ]
  },
  {
   "cell_type": "code",
   "execution_count": 50,
   "id": "11ffea06",
   "metadata": {},
   "outputs": [],
   "source": [
    "np.random.seed(17)\n",
    "X = np.random.randn(100, 4)\n",
    "output = nn.forward(X)\n",
    "\n",
    "assert output.shape == (100, 3)\n",
    "\n",
    "layer_weights = []\n",
    "for layer in nn.layers:\n",
    "    if isinstance(layer, LinearLayer):\n",
    "        layer_weights.append(layer.W.shape)\n",
    "right_weights = [(4, 4), (4, 5), (5, 6), (6, 4), (4, 3), (3, 3)]\n",
    "assert layer_weights == right_weights"
   ]
  },
  {
   "cell_type": "markdown",
   "id": "02ec8398",
   "metadata": {},
   "source": [
    "Если прошли все ассерты, поздравляю, теперь вы способны построить полносвязную сеть любой конфигурации для любой задачи 🥳️🥳️🥳️🥳️🥳️🥳️🥳️\n",
    "\n",
    "![](https://kartinkof.club/uploads/posts/2022-06/1655926105_23-kartinkof-club-p-kartinki-s-nadpisyu-kto-molodets-ya-molode-24.jpg)"
   ]
  }
 ],
 "metadata": {
  "kernelspec": {
   "display_name": "Python 3 (ipykernel)",
   "language": "python",
   "name": "python3"
  },
  "language_info": {
   "codemirror_mode": {
    "name": "ipython",
    "version": 3
   },
   "file_extension": ".py",
   "mimetype": "text/x-python",
   "name": "python",
   "nbconvert_exporter": "python",
   "pygments_lexer": "ipython3",
   "version": "3.10.7"
  }
 },
 "nbformat": 4,
 "nbformat_minor": 5
}
